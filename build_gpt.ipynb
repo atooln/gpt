{
 "cells": [
  {
   "cell_type": "markdown",
   "metadata": {},
   "source": [
    "# Build GPT Model"
   ]
  },
  {
   "cell_type": "code",
   "execution_count": 22,
   "metadata": {},
   "outputs": [
    {
     "data": {
      "text/plain": [
       "<torch._C.Generator at 0x1292be990>"
      ]
     },
     "execution_count": 22,
     "metadata": {},
     "output_type": "execute_result"
    }
   ],
   "source": [
    "import torch\n",
    "import torch.nn as nn\n",
    "import torch.nn.functional as F\n",
    "import matplotlib.pyplot as plt\n",
    "\n",
    "torch.manual_seed(1337)"
   ]
  },
  {
   "cell_type": "code",
   "execution_count": 23,
   "metadata": {},
   "outputs": [
    {
     "name": "stdout",
     "output_type": "stream",
     "text": [
      "1115394\n"
     ]
    }
   ],
   "source": [
    "with open('input.txt', 'r', encoding='utf-8') as f:\n",
    "    text = f.read()\n",
    "\n",
    "print(len(text))"
   ]
  },
  {
   "cell_type": "code",
   "execution_count": 33,
   "metadata": {},
   "outputs": [
    {
     "name": "stdout",
     "output_type": "stream",
     "text": [
      "\n",
      " !$&',-.3:;?ABCDEFGHIJKLMNOPQRSTUVWXYZabcdefghijklmnopqrstuvwxyz | 65 chars\n"
     ]
    }
   ],
   "source": [
    "chars = sorted(list(set(text)))\n",
    "vocab_size = len(chars)\n",
    "\n",
    "print(f\"{''.join(chars)} | {vocab_size} chars\")"
   ]
  },
  {
   "cell_type": "markdown",
   "metadata": {},
   "source": [
    "#### Character Level Tokenizer\n",
    "1 to 1 mapping for char->int"
   ]
  },
  {
   "cell_type": "code",
   "execution_count": 25,
   "metadata": {},
   "outputs": [
    {
     "name": "stdout",
     "output_type": "stream",
     "text": [
      "[46, 47, 47, 1, 58, 46, 43, 56, 43]\n",
      "hii there\n"
     ]
    }
   ],
   "source": [
    "# create a mapping from characters to integers\n",
    "stoi = { ch:i for i,ch in enumerate(chars) }\n",
    "itos = { i:ch for i,ch in enumerate(chars) }\n",
    "encode = lambda s: [stoi[c] for c in s] # encoder: take a string, output a list of integers\n",
    "decode = lambda l: ''.join([itos[i] for i in l]) # decoder: take a list of integers, output a string\n",
    "\n",
    "print(encode(\"hii there\"))\n",
    "print(decode(encode(\"hii there\")))"
   ]
  },
  {
   "cell_type": "markdown",
   "metadata": {},
   "source": [
    "### Tokenize and Split Data"
   ]
  },
  {
   "cell_type": "code",
   "execution_count": 26,
   "metadata": {},
   "outputs": [
    {
     "name": "stdout",
     "output_type": "stream",
     "text": [
      "Total Data: torch.Size([1115394]), torch.int64\n",
      "\n",
      "Train Data: torch.Size([1003854]), torch.int64 | 90.00%\n",
      "Val Data: torch.Size([111540]), torch.int64 | 10.00%\n"
     ]
    }
   ],
   "source": [
    "data = torch.tensor(encode(text), dtype=torch.long)\n",
    "print(f\"Total Data: {data.shape}, {data.dtype}\\n\")\n",
    "\n",
    "n = int(0.9*len(data)) # first 90% will be train, rest val\n",
    "train_data, val_data = data[:n], data[n:]\n",
    "print(f\"Train Data: {train_data.shape}, {train_data.dtype} | {train_data.shape[0]/data.shape[0]*100:.2f}%\")\n",
    "print(f\"Val Data: {val_data.shape}, {val_data.dtype} | {val_data.shape[0]/data.shape[0]*100:.2f}%\")"
   ]
  },
  {
   "cell_type": "markdown",
   "metadata": {},
   "source": [
    "### Data Preparation"
   ]
  },
  {
   "cell_type": "markdown",
   "metadata": {},
   "source": [
    "Overview of how we want to partition the data into X,Y"
   ]
  },
  {
   "cell_type": "code",
   "execution_count": 37,
   "metadata": {},
   "outputs": [
    {
     "name": "stdout",
     "output_type": "stream",
     "text": [
      "when input is tensor([18]) the target: 47\n",
      "when input is tensor([18, 47]) the target: 56\n",
      "when input is tensor([18, 47, 56]) the target: 57\n",
      "when input is tensor([18, 47, 56, 57]) the target: 58\n",
      "when input is tensor([18, 47, 56, 57, 58]) the target: 1\n",
      "when input is tensor([18, 47, 56, 57, 58,  1]) the target: 15\n",
      "when input is tensor([18, 47, 56, 57, 58,  1, 15]) the target: 47\n",
      "when input is tensor([18, 47, 56, 57, 58,  1, 15, 47]) the target: 58\n"
     ]
    }
   ],
   "source": [
    "\"\"\"\n",
    "X: if block_size (context) is n, then n tensors (of length 1 to n-1) will be created via a simple sliding window\n",
    "Y: the next (target) character  \n",
    "\"\"\"\n",
    "block_size = 8 \n",
    "x,y = train_data[:block_size], train_data[1:block_size+1]\n",
    "\n",
    "for t in range(block_size):\n",
    "    context = x[:t+1]\n",
    "    target = y[t]\n",
    "    print(f\"when input is {context} the target: {target}\")"
   ]
  },
  {
   "cell_type": "code",
   "execution_count": 47,
   "metadata": {},
   "outputs": [
    {
     "name": "stdout",
     "output_type": "stream",
     "text": [
      "torch.Size([4, 8])\n",
      "when input is tensor([52]) the target: 42\n",
      "when input is tensor([52, 42]) the target: 8\n",
      "when input is tensor([52, 42,  8]) the target: 0\n",
      "when input is tensor([52, 42,  8,  0]) the target: 0\n",
      "when input is tensor([52, 42,  8,  0,  0]) the target: 23\n",
      "when input is tensor([52, 42,  8,  0,  0, 23]) the target: 21\n",
      "when input is tensor([52, 42,  8,  0,  0, 23, 21]) the target: 26\n",
      "when input is tensor([52, 42,  8,  0,  0, 23, 21, 26]) the target: 19\n",
      "\n",
      "\n",
      "when input is tensor([45]) the target: 53\n",
      "when input is tensor([45, 53]) the target: 42\n",
      "when input is tensor([45, 53, 42]) the target: 57\n",
      "when input is tensor([45, 53, 42, 57]) the target: 0\n",
      "when input is tensor([45, 53, 42, 57,  0]) the target: 23\n",
      "when input is tensor([45, 53, 42, 57,  0, 23]) the target: 43\n",
      "when input is tensor([45, 53, 42, 57,  0, 23, 43]) the target: 43\n",
      "when input is tensor([45, 53, 42, 57,  0, 23, 43, 43]) the target: 54\n",
      "\n",
      "\n",
      "when input is tensor([52]) the target: 1\n",
      "when input is tensor([52,  1]) the target: 61\n",
      "when input is tensor([52,  1, 61]) the target: 39\n",
      "when input is tensor([52,  1, 61, 39]) the target: 57\n",
      "when input is tensor([52,  1, 61, 39, 57]) the target: 1\n",
      "when input is tensor([52,  1, 61, 39, 57,  1]) the target: 51\n",
      "when input is tensor([52,  1, 61, 39, 57,  1, 51]) the target: 53\n",
      "when input is tensor([52,  1, 61, 39, 57,  1, 51, 53]) the target: 56\n",
      "\n",
      "\n",
      "when input is tensor([39]) the target: 49\n",
      "when input is tensor([39, 49]) the target: 12\n",
      "when input is tensor([39, 49, 12]) the target: 1\n",
      "when input is tensor([39, 49, 12,  1]) the target: 27\n",
      "when input is tensor([39, 49, 12,  1, 27]) the target: 1\n",
      "when input is tensor([39, 49, 12,  1, 27,  1]) the target: 58\n",
      "when input is tensor([39, 49, 12,  1, 27,  1, 58]) the target: 56\n",
      "when input is tensor([39, 49, 12,  1, 27,  1, 58, 56]) the target: 39\n",
      "\n",
      "\n"
     ]
    }
   ],
   "source": [
    "batch_size, block_size = 4, 8\n",
    "\n",
    "def get_batch(split:str):\n",
    "    # select split\n",
    "    data = train_data if split == 'train' else val_data\n",
    "    # find b random start points from 0 to len(data)-blocksize \n",
    "    ix = torch.randint(len(data)-block_size, (batch_size,))\n",
    "    # basically the above sliding window algo\n",
    "    x = torch.stack([data[i:i+block_size] for i in ix])\n",
    "    y = torch.stack([data[i+1: i+block_size+1] for i in ix])\n",
    "    return x,y\n",
    "\n",
    "xb,yb = get_batch(\"train\")\n",
    "print(x.shape)\n",
    "\n",
    "for b in range(batch_size):\n",
    "    for t in range(block_size):\n",
    "        context = x[b,:t+1]\n",
    "        target = y[b,t]\n",
    "        print(f\"when input is {context} the target: {target}\")\n",
    "    print(\"\\n\")"
   ]
  },
  {
   "cell_type": "markdown",
   "metadata": {},
   "source": [
    "### Simple Bigram Model"
   ]
  },
  {
   "cell_type": "code",
   "execution_count": 76,
   "metadata": {},
   "outputs": [
    {
     "name": "stdout",
     "output_type": "stream",
     "text": [
      "\n",
      "d-liIAxOzfVYOTmryOa:ymywMXh:yjws:dcNfp :?evM!lxLJgdC&VMCeaOI!Gzl C3d' Y!nVXNtid? :nR,'-Y\n",
      "ti?fQqvDuq.\n"
     ]
    }
   ],
   "source": [
    "class BigramLanguageModel(nn.Module):\n",
    "    def __init__(self,vocab_size:int):\n",
    "        super().__init__()\n",
    "        # create an embedding matrix \n",
    "        self.token_embedding_table = nn.Embedding(num_embeddings=vocab_size, embedding_dim=vocab_size)\n",
    "\n",
    "    def forward(self, idx, targets=None):\n",
    "        # get data from embedding space\n",
    "        logits = self.token_embedding_table(idx) # (B:batch, T:context, C:embedding_dim)\n",
    "        \n",
    "        if targets is None:\n",
    "            loss = None\n",
    "        else:\n",
    "            # dims of the batched logits \n",
    "            B,T,C = logits.shape\n",
    "            # we want to squash the batches st we can evaluate with cross entropy\n",
    "            logits = logits.view(B*T,C)\n",
    "            targets = targets.view(B*T) # note targets is shape (B:batch, T:context)\n",
    "            # use cross entropy to calculate the loss\n",
    "            loss = F.cross_entropy(logits, targets)\n",
    "        return logits, loss\n",
    "\n",
    "    def generate(self, idx, max_new_tokens:int):\n",
    "        # idx is (B,T) array of indices in our context window\n",
    "        for _ in range(max_new_tokens):\n",
    "            # get predictions\n",
    "            logits, loss = self(idx)\n",
    "            # go to the last character so that we can get the nxt char prediction for that char\n",
    "            logits = logits[:,-1,:] # (B,T,C) -> (B,C) @ last element\n",
    "            probs = F.softmax(logits, dim=-1) # (B,C)\n",
    "            # calculate the next idx from the distribution above\n",
    "            next_idx = torch.multinomial(probs, num_samples=1) # (B,1)\n",
    "            # concatenate this to idx so that we can predict the nxt char of this one\n",
    "            idx = torch.cat((idx, next_idx), dim=1) # (B, T+1)\n",
    "\n",
    "        return idx\n",
    "\n",
    "\n",
    "    \n",
    "m = BigramLanguageModel(vocab_size)\n",
    "out, loss = m(xb,yb)\n",
    "print(decode(m.generate(idx = torch.zeros((1, 1), dtype=torch.long), max_new_tokens=100)[0].tolist()))\n"
   ]
  },
  {
   "cell_type": "code",
   "execution_count": null,
   "metadata": {},
   "outputs": [],
   "source": []
  }
 ],
 "metadata": {
  "kernelspec": {
   "display_name": "dl",
   "language": "python",
   "name": "python3"
  },
  "language_info": {
   "codemirror_mode": {
    "name": "ipython",
    "version": 3
   },
   "file_extension": ".py",
   "mimetype": "text/x-python",
   "name": "python",
   "nbconvert_exporter": "python",
   "pygments_lexer": "ipython3",
   "version": "3.13.3"
  }
 },
 "nbformat": 4,
 "nbformat_minor": 2
}
